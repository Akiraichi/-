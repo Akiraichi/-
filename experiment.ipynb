{
 "cells": [
  {
   "cell_type": "markdown",
   "metadata": {
    "collapsed": true,
    "pycharm": {
     "name": "#%% md\n"
    }
   },
   "source": [
    "5章3節：教師付き学習"
   ]
  },
  {
   "cell_type": "code",
   "execution_count": 2,
   "outputs": [
    {
     "name": "stdout",
     "output_type": "stream",
     "text": [
      "pi: [0.0965 0.3971 0.5064]\n",
      "theta: [[0.78445596 0.21554404]\n",
      " [0.59279778 0.40720222]\n",
      " [0.30963665 0.69036335]]\n"
     ]
    }
   ],
   "source": [
    "import numpy as np\n",
    "import example.chapter5\n",
    "\n",
    "# set parameter\n",
    "pi = np.array([0.1, 0.4, 0.5])\n",
    "theta = np.array([[0.8, 0.2], [0.6, 0.4], [0.3, 0.7]])\n",
    "\n",
    "# data\n",
    "data_model = example.chapter5.dice(theta, pi)\n",
    "x, s = data_model.generate_data(num=10000)\n",
    "\n",
    "# estimate\n",
    "supervised = example.chapter5.Supervised_learning()\n",
    "supervised.estimate(x, s)\n",
    "print(f\"pi: {supervised.pi}\")\n",
    "print(f\"theta: {supervised.theta}\")\n"
   ],
   "metadata": {
    "collapsed": false,
    "pycharm": {
     "name": "#%%\n"
    }
   }
  },
  {
   "cell_type": "markdown",
   "source": [
    "5章4節 教師なし学習"
   ],
   "metadata": {
    "collapsed": false,
    "pycharm": {
     "name": "#%% md\n"
    }
   }
  },
  {
   "cell_type": "code",
   "execution_count": 10,
   "outputs": [
    {
     "name": "stdout",
     "output_type": "stream",
     "text": [
      "pi: [0.1014431  0.39196955 0.50658735]\n",
      "theta: [[0.8 0.2]\n",
      " [0.6 0.4]\n",
      " [0.3 0.7]]\n"
     ]
    }
   ],
   "source": [
    "import numpy as np\n",
    "import example.chapter5\n",
    "\n",
    "# set parameter\n",
    "pi = np.array([0.1, 0.4, 0.5])\n",
    "theta = np.array([[0.8, 0.2], [0.6, 0.4], [0.3, 0.7]])\n",
    "# data\n",
    "data_model = example.chapter5.dice(theta, pi)\n",
    "x, s = data_model.generate_data(10000)\n",
    "# estimate\n",
    "# initial value\n",
    "pi = np.array([0.3, 0.5, 0.2])\n",
    "# theta is known\n",
    "unsupervised = example.chapter5.Unsupervised_learning(theta, pi)\n",
    "unsupervised.estimate(x)\n",
    "print(f\"pi: {unsupervised.pi}\")\n",
    "print(f\"theta: {unsupervised.theta}\")"
   ],
   "metadata": {
    "collapsed": false,
    "pycharm": {
     "name": "#%%\n"
    }
   }
  },
  {
   "cell_type": "markdown",
   "source": [
    "7章　マルコフモデルのパラメータ推定"
   ],
   "metadata": {
    "collapsed": false,
    "pycharm": {
     "name": "#%% md\n"
    }
   }
  },
  {
   "cell_type": "code",
   "execution_count": 1,
   "outputs": [
    {
     "name": "stdout",
     "output_type": "stream",
     "text": [
      "A is [[0.09294581 0.7075386  0.19921284]\n",
      " [0.19711971 0.09750975 0.70537054]\n",
      " [0.69500595 0.19946492 0.10552913]]\n",
      "B is [[0.90493491 0.09506509]\n",
      " [0.58865887 0.41134113]\n",
      " [0.0980975  0.9019025 ]]\n"
     ]
    }
   ],
   "source": [
    "import numpy as np\n",
    "import example.chapter7_8\n",
    "# parameter\n",
    "A = np.array([[0.1, 0.7, 0.2], [0.2, 0.1, 0.7], [0.7, 0.2, 0.1]])\n",
    "B = np.array([[0.9, 0.1], [0.6, 0.4], [0.1, 0.9]])\n",
    "rho = np.array([1 / 3, 1 / 3, 1 / 3])\n",
    "# data\n",
    "model = example.chapter7_8.Markov_dice(A, B, rho)\n",
    "# s, xの順。タプルで返ることになる\n",
    "s, x = model.generate_spots(n=10000)\n",
    "# example\n",
    "markov = example.chapter7_8.Markov()\n",
    "markov.estimate(x, s)\n",
    "print(f\"A is {markov.A}\")\n",
    "print(f\"B is {markov.B}\")\n"
   ],
   "metadata": {
    "collapsed": false,
    "pycharm": {
     "name": "#%%\n"
    }
   }
  },
  {
   "cell_type": "markdown",
   "source": [
    "8章　隠れマルコフモデルのパラメータ推定\n",
    "\n"
   ],
   "metadata": {
    "collapsed": false
   }
  },
  {
   "cell_type": "code",
   "execution_count": null,
   "outputs": [],
   "source": [],
   "metadata": {
    "collapsed": false,
    "pycharm": {
     "name": "#%%\n"
    }
   }
  },
  {
   "cell_type": "markdown",
   "source": [
    "10章　凸クラスタリング"
   ],
   "metadata": {
    "collapsed": false,
    "pycharm": {
     "name": "#%% md\n"
    }
   }
  },
  {
   "cell_type": "markdown",
   "source": [
    "1次元正規分布の場合"
   ],
   "metadata": {
    "collapsed": false,
    "pycharm": {
     "name": "#%% md\n"
    }
   }
  },
  {
   "cell_type": "code",
   "execution_count": null,
   "outputs": [],
   "source": [
    "import numpy as np\n",
    "import example.chapter9_10\n",
    "\n",
    "# data\n",
    "K = 4  # クラスタ数\n",
    "N = 100 * K\n",
    "# [[mu1, mu2,...],[sigma1,sigam2,...]]\n",
    "# 1d\n",
    "mu = np.array([10, 20, 35, 45])\n",
    "sigma = np.array([1, 1, 1, 1])\n",
    "\n",
    "model = example.chapter9_10.mixed_normal_dice(K, mu, sigma)\n",
    "X, _, _ = model.generate_data(N)\n",
    "\n",
    "convex = example.chapter9_10.convex_clustering(sigma)\n",
    "convex.clustering(X)\n",
    "convex.graph()"
   ],
   "metadata": {
    "collapsed": false,
    "pycharm": {
     "name": "#%%\n"
    }
   }
  },
  {
   "cell_type": "markdown",
   "source": [
    "2次元正規分布の場合"
   ],
   "metadata": {
    "collapsed": false,
    "pycharm": {
     "name": "#%% md\n"
    }
   }
  },
  {
   "cell_type": "code",
   "execution_count": null,
   "outputs": [],
   "source": [
    "import numpy as np\n",
    "import example.chapter9_10\n",
    "\n",
    "K = 4  # クラスタ数\n",
    "N = 100 * K\n",
    "# 2d\n",
    "mu = np.array([[10, 20],\n",
    "               [20, 10],\n",
    "               [30, 20],\n",
    "               [20, 30],\n",
    "               ])\n",
    "sigma = np.array([[[2, 0],\n",
    "                   [0, 2]],\n",
    "                  [[2, 0],\n",
    "                   [0, 2]],\n",
    "                  [[2, 0],\n",
    "                   [0, 2]],\n",
    "                  [[2, 0],\n",
    "                   [0, 2]]\n",
    "                  ])\n",
    "\n",
    "model = example.chapter9_10.mixed_normal_dice(K, mu, sigma)\n",
    "X, _, _ = model.generate_data(N)\n",
    "\n",
    "convex = example.chapter9_10.convex_clustering(sigma)\n",
    "convex.clustering(X)\n",
    "convex.graph()"
   ],
   "metadata": {
    "collapsed": false,
    "pycharm": {
     "name": "#%%\n"
    }
   }
  }
 ],
 "metadata": {
  "kernelspec": {
   "display_name": "Python 3",
   "language": "python",
   "name": "python3"
  },
  "language_info": {
   "codemirror_mode": {
    "name": "ipython",
    "version": 2
   },
   "file_extension": ".py",
   "mimetype": "text/x-python",
   "name": "python",
   "nbconvert_exporter": "python",
   "pygments_lexer": "ipython2",
   "version": "2.7.6"
  }
 },
 "nbformat": 4,
 "nbformat_minor": 0
}